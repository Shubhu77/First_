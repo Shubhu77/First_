{
 "cells": [
  {
   "cell_type": "markdown",
   "id": "e8839edc",
   "metadata": {},
   "source": [
    "Some of the commonly used libraries used by Data Scientists include:"
   ]
  },
  {
   "cell_type": "markdown",
   "id": "e26e76c0",
   "metadata": {},
   "source": [
    "ordered list:\n",
    "    1- NumPy\n",
    "    2- Scikit-learn\n",
    "    3- Pandas\n",
    "    4- TensorFlow\n",
    "    "
   ]
  }
 ],
 "metadata": {
  "kernelspec": {
   "display_name": "Python 3 (ipykernel)",
   "language": "python",
   "name": "python3"
  },
  "language_info": {
   "codemirror_mode": {
    "name": "ipython",
    "version": 3
   },
   "file_extension": ".py",
   "mimetype": "text/x-python",
   "name": "python",
   "nbconvert_exporter": "python",
   "pygments_lexer": "ipython3",
   "version": "3.11.3"
  }
 },
 "nbformat": 4,
 "nbformat_minor": 5
}
